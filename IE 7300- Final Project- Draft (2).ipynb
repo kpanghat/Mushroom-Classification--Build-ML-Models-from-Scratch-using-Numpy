{
 "cells": [
  {
   "cell_type": "code",
   "execution_count": 1,
   "metadata": {},
   "outputs": [],
   "source": [
    "import math\n",
    "import pandas as pd\n",
    "import numpy as np\n",
    "from tqdm import tqdm\n",
    "import matplotlib.pyplot as plt\n",
    "import seaborn as sns\n",
    "from sklearn.model_selection import train_test_split\n",
    "from sklearn.metrics import confusion_matrix\n",
    "from collections import Counter\n",
    "import numpy as geek \n",
    "from scipy.optimize import minimize, LinearConstraint, BFGS, Bounds\n",
    "from scipy import optimize\n",
    "import matplotlib.colors as pltcolors\n",
    "from scipy.stats import norm"
   ]
  },
  {
   "cell_type": "code",
   "execution_count": 2,
   "metadata": {},
   "outputs": [],
   "source": [
    "import warnings\n",
    "warnings.filterwarnings(\"ignore\")"
   ]
  },
  {
   "cell_type": "code",
   "execution_count": 3,
   "metadata": {},
   "outputs": [],
   "source": [
    "df = pd.read_csv('Mushroom2-Dataset.csv')"
   ]
  },
  {
   "cell_type": "code",
   "execution_count": 4,
   "metadata": {},
   "outputs": [
    {
     "data": {
      "text/plain": [
       "class                    0.000000\n",
       "cap-diameter             0.000000\n",
       "cap-shape                0.000000\n",
       "cap-surface             23.121387\n",
       "cap-color                0.000000\n",
       "does-bruise-or-bleed     0.000000\n",
       "gill-attachment         16.184971\n",
       "gill-spacing            41.040462\n",
       "gill-color               0.000000\n",
       "stem-height              0.000000\n",
       "stem-width               0.000000\n",
       "stem-root               84.393064\n",
       "stem-surface            62.427746\n",
       "stem-color               0.000000\n",
       "veil-type               94.797688\n",
       "veil-color              87.861272\n",
       "has-ring                 0.000000\n",
       "ring-type                4.046243\n",
       "spore-print-color       89.595376\n",
       "habitat                  0.000000\n",
       "season                   0.000000\n",
       "dtype: float64"
      ]
     },
     "execution_count": 4,
     "metadata": {},
     "output_type": "execute_result"
    }
   ],
   "source": [
    "na_count=df.isna().sum()*100/df.shape[0]\n",
    "na_count"
   ]
  },
  {
   "cell_type": "code",
   "execution_count": 5,
   "metadata": {},
   "outputs": [],
   "source": [
    "#Drop the variables which have more than 80% missing values\n",
    "x=pd.DataFrame(data=na_count,columns=[\"Missing Values\"]).reset_index()\n",
    "x.rename(columns={\"index\":\"Column\"}, inplace=True)\n",
    "y=x[x[\"Missing Values\"]>60]\n",
    "df1=df.drop(y[\"Column\"],axis=1)"
   ]
  },
  {
   "cell_type": "code",
   "execution_count": 6,
   "metadata": {},
   "outputs": [
    {
     "data": {
      "text/html": [
       "<div>\n",
       "<style scoped>\n",
       "    .dataframe tbody tr th:only-of-type {\n",
       "        vertical-align: middle;\n",
       "    }\n",
       "\n",
       "    .dataframe tbody tr th {\n",
       "        vertical-align: top;\n",
       "    }\n",
       "\n",
       "    .dataframe thead th {\n",
       "        text-align: right;\n",
       "    }\n",
       "</style>\n",
       "<table border=\"1\" class=\"dataframe\">\n",
       "  <thead>\n",
       "    <tr style=\"text-align: right;\">\n",
       "      <th></th>\n",
       "      <th>class</th>\n",
       "      <th>cap-diameter</th>\n",
       "      <th>cap-shape</th>\n",
       "      <th>cap-surface</th>\n",
       "      <th>cap-color</th>\n",
       "      <th>does-bruise-or-bleed</th>\n",
       "      <th>gill-attachment</th>\n",
       "      <th>gill-spacing</th>\n",
       "      <th>gill-color</th>\n",
       "      <th>stem-height</th>\n",
       "      <th>stem-width</th>\n",
       "      <th>stem-color</th>\n",
       "      <th>has-ring</th>\n",
       "      <th>ring-type</th>\n",
       "      <th>habitat</th>\n",
       "      <th>season</th>\n",
       "    </tr>\n",
       "  </thead>\n",
       "  <tbody>\n",
       "    <tr>\n",
       "      <th>0</th>\n",
       "      <td>p</td>\n",
       "      <td>15.26</td>\n",
       "      <td>x</td>\n",
       "      <td>g</td>\n",
       "      <td>o</td>\n",
       "      <td>f</td>\n",
       "      <td>e</td>\n",
       "      <td>Unknown</td>\n",
       "      <td>w</td>\n",
       "      <td>16.95</td>\n",
       "      <td>17.09</td>\n",
       "      <td>w</td>\n",
       "      <td>t</td>\n",
       "      <td>g</td>\n",
       "      <td>d</td>\n",
       "      <td>w</td>\n",
       "    </tr>\n",
       "    <tr>\n",
       "      <th>1</th>\n",
       "      <td>p</td>\n",
       "      <td>16.60</td>\n",
       "      <td>x</td>\n",
       "      <td>g</td>\n",
       "      <td>o</td>\n",
       "      <td>f</td>\n",
       "      <td>e</td>\n",
       "      <td>Unknown</td>\n",
       "      <td>w</td>\n",
       "      <td>17.99</td>\n",
       "      <td>18.19</td>\n",
       "      <td>w</td>\n",
       "      <td>t</td>\n",
       "      <td>g</td>\n",
       "      <td>d</td>\n",
       "      <td>u</td>\n",
       "    </tr>\n",
       "    <tr>\n",
       "      <th>2</th>\n",
       "      <td>p</td>\n",
       "      <td>14.07</td>\n",
       "      <td>x</td>\n",
       "      <td>g</td>\n",
       "      <td>o</td>\n",
       "      <td>f</td>\n",
       "      <td>e</td>\n",
       "      <td>Unknown</td>\n",
       "      <td>w</td>\n",
       "      <td>17.80</td>\n",
       "      <td>17.74</td>\n",
       "      <td>w</td>\n",
       "      <td>t</td>\n",
       "      <td>g</td>\n",
       "      <td>d</td>\n",
       "      <td>w</td>\n",
       "    </tr>\n",
       "    <tr>\n",
       "      <th>3</th>\n",
       "      <td>p</td>\n",
       "      <td>14.17</td>\n",
       "      <td>f</td>\n",
       "      <td>h</td>\n",
       "      <td>e</td>\n",
       "      <td>f</td>\n",
       "      <td>e</td>\n",
       "      <td>Unknown</td>\n",
       "      <td>w</td>\n",
       "      <td>15.77</td>\n",
       "      <td>15.98</td>\n",
       "      <td>w</td>\n",
       "      <td>t</td>\n",
       "      <td>p</td>\n",
       "      <td>d</td>\n",
       "      <td>w</td>\n",
       "    </tr>\n",
       "    <tr>\n",
       "      <th>4</th>\n",
       "      <td>p</td>\n",
       "      <td>14.64</td>\n",
       "      <td>x</td>\n",
       "      <td>h</td>\n",
       "      <td>o</td>\n",
       "      <td>f</td>\n",
       "      <td>e</td>\n",
       "      <td>Unknown</td>\n",
       "      <td>w</td>\n",
       "      <td>16.53</td>\n",
       "      <td>17.20</td>\n",
       "      <td>w</td>\n",
       "      <td>t</td>\n",
       "      <td>p</td>\n",
       "      <td>d</td>\n",
       "      <td>w</td>\n",
       "    </tr>\n",
       "  </tbody>\n",
       "</table>\n",
       "</div>"
      ],
      "text/plain": [
       "  class  cap-diameter cap-shape cap-surface cap-color does-bruise-or-bleed  \\\n",
       "0     p         15.26         x           g         o                    f   \n",
       "1     p         16.60         x           g         o                    f   \n",
       "2     p         14.07         x           g         o                    f   \n",
       "3     p         14.17         f           h         e                    f   \n",
       "4     p         14.64         x           h         o                    f   \n",
       "\n",
       "  gill-attachment gill-spacing gill-color  stem-height  stem-width stem-color  \\\n",
       "0               e      Unknown          w        16.95       17.09          w   \n",
       "1               e      Unknown          w        17.99       18.19          w   \n",
       "2               e      Unknown          w        17.80       17.74          w   \n",
       "3               e      Unknown          w        15.77       15.98          w   \n",
       "4               e      Unknown          w        16.53       17.20          w   \n",
       "\n",
       "  has-ring ring-type habitat season  \n",
       "0        t         g       d      w  \n",
       "1        t         g       d      u  \n",
       "2        t         g       d      w  \n",
       "3        t         p       d      w  \n",
       "4        t         p       d      w  "
      ]
     },
     "execution_count": 6,
     "metadata": {},
     "output_type": "execute_result"
    }
   ],
   "source": [
    "##imputing \"Unknown\" class to all the remaining null values\n",
    "df2 = df1.fillna(\"Unknown\")\n",
    "df2.head()"
   ]
  },
  {
   "cell_type": "code",
   "execution_count": 7,
   "metadata": {},
   "outputs": [
    {
     "data": {
      "text/html": [
       "<div>\n",
       "<style scoped>\n",
       "    .dataframe tbody tr th:only-of-type {\n",
       "        vertical-align: middle;\n",
       "    }\n",
       "\n",
       "    .dataframe tbody tr th {\n",
       "        vertical-align: top;\n",
       "    }\n",
       "\n",
       "    .dataframe thead th {\n",
       "        text-align: right;\n",
       "    }\n",
       "</style>\n",
       "<table border=\"1\" class=\"dataframe\">\n",
       "  <thead>\n",
       "    <tr style=\"text-align: right;\">\n",
       "      <th></th>\n",
       "      <th>cap-diameter</th>\n",
       "      <th>stem-height</th>\n",
       "      <th>stem-width</th>\n",
       "    </tr>\n",
       "  </thead>\n",
       "  <tbody>\n",
       "    <tr>\n",
       "      <th>count</th>\n",
       "      <td>61069.000000</td>\n",
       "      <td>61069.000000</td>\n",
       "      <td>61069.000000</td>\n",
       "    </tr>\n",
       "    <tr>\n",
       "      <th>mean</th>\n",
       "      <td>6.733854</td>\n",
       "      <td>6.581538</td>\n",
       "      <td>12.149410</td>\n",
       "    </tr>\n",
       "    <tr>\n",
       "      <th>std</th>\n",
       "      <td>5.264845</td>\n",
       "      <td>3.370017</td>\n",
       "      <td>10.035955</td>\n",
       "    </tr>\n",
       "    <tr>\n",
       "      <th>min</th>\n",
       "      <td>0.380000</td>\n",
       "      <td>0.000000</td>\n",
       "      <td>0.000000</td>\n",
       "    </tr>\n",
       "    <tr>\n",
       "      <th>25%</th>\n",
       "      <td>3.480000</td>\n",
       "      <td>4.640000</td>\n",
       "      <td>5.210000</td>\n",
       "    </tr>\n",
       "    <tr>\n",
       "      <th>50%</th>\n",
       "      <td>5.860000</td>\n",
       "      <td>5.950000</td>\n",
       "      <td>10.190000</td>\n",
       "    </tr>\n",
       "    <tr>\n",
       "      <th>75%</th>\n",
       "      <td>8.540000</td>\n",
       "      <td>7.740000</td>\n",
       "      <td>16.570000</td>\n",
       "    </tr>\n",
       "    <tr>\n",
       "      <th>max</th>\n",
       "      <td>62.340000</td>\n",
       "      <td>33.920000</td>\n",
       "      <td>103.910000</td>\n",
       "    </tr>\n",
       "  </tbody>\n",
       "</table>\n",
       "</div>"
      ],
      "text/plain": [
       "       cap-diameter   stem-height    stem-width\n",
       "count  61069.000000  61069.000000  61069.000000\n",
       "mean       6.733854      6.581538     12.149410\n",
       "std        5.264845      3.370017     10.035955\n",
       "min        0.380000      0.000000      0.000000\n",
       "25%        3.480000      4.640000      5.210000\n",
       "50%        5.860000      5.950000     10.190000\n",
       "75%        8.540000      7.740000     16.570000\n",
       "max       62.340000     33.920000    103.910000"
      ]
     },
     "execution_count": 7,
     "metadata": {},
     "output_type": "execute_result"
    }
   ],
   "source": [
    "df2.describe()"
   ]
  },
  {
   "cell_type": "code",
   "execution_count": 8,
   "metadata": {},
   "outputs": [
    {
     "data": {
      "text/plain": [
       "p    33888\n",
       "e    27181\n",
       "Name: class, dtype: int64"
      ]
     },
     "execution_count": 8,
     "metadata": {},
     "output_type": "execute_result"
    }
   ],
   "source": [
    "#Target Class: To check if dataset is imbalanced\n",
    "target_class = df2[\"class\"].value_counts()\n",
    "target_class"
   ]
  },
  {
   "cell_type": "code",
   "execution_count": 9,
   "metadata": {},
   "outputs": [
    {
     "data": {
      "text/plain": [
       "<AxesSubplot:ylabel='class'>"
      ]
     },
     "execution_count": 9,
     "metadata": {},
     "output_type": "execute_result"
    },
    {
     "data": {
      "image/png": "[encoded data removed]",
      "text/plain": [
       "<Figure size 600x600 with 1 Axes>"
      ]
     },
     "metadata": {},
     "output_type": "display_data"
    }
   ],
   "source": [
    "feature_count = df2['class'].value_counts()\n",
    "plt.figure(figsize=(6,6))\n",
    "sns.barplot(x = feature_count.index, y = feature_count)"
   ]
  },
  {
   "cell_type": "code",
   "execution_count": 10,
   "metadata": {},
   "outputs": [
    {
     "data": {
      "text/plain": [
       "<AxesSubplot:>"
      ]
     },
     "execution_count": 10,
     "metadata": {},
     "output_type": "execute_result"
    },
    {
     "data": {
      "image/png": "[encoded data removed]",
      "text/plain": [
       "<Figure size 1000x800 with 2 Axes>"
      ]
     },
     "metadata": {},
     "output_type": "display_data"
    }
   ],
   "source": [
    "# Finding Correlation between between numerical variables through Heatmap\n",
    "corr = df2.corr()\n",
    "fig, ax = plt.subplots()\n",
    "fig.set_size_inches(10, 8)\n",
    "sns.heatmap(corr, annot = True, center=0, ax = ax)"
   ]
  },
  {
   "cell_type": "code",
   "execution_count": 27,
   "metadata": {},
   "outputs": [],
   "source": [
    "df3= df2.drop(\"cap-diameter\", axis=1)"
   ]
  },
  {
   "cell_type": "code",
   "execution_count": 28,
   "metadata": {},
   "outputs": [
    {
     "data": {
      "text/plain": [
       "<seaborn.axisgrid.PairGrid at 0x2022d729640>"
      ]
     },
     "execution_count": 28,
     "metadata": {},
     "output_type": "execute_result"
    },
    {
     "data": {
      "image/png": "[encoded data removed]",
      "text/plain": [
       "<Figure size 558.875x500 with 6 Axes>"
      ]
     },
     "metadata": {},
     "output_type": "display_data"
    }
   ],
   "source": [
    "import seaborn as sns\n",
    "sns.pairplot(df3, hue='class', palette={'p': 'red', 'e': 'green'})"
   ]
  },
  {
   "cell_type": "code",
   "execution_count": 29,
   "metadata": {},
   "outputs": [
    {
     "data": {
      "text/html": [
       "<div>\n",
       "<style scoped>\n",
       "    .dataframe tbody tr th:only-of-type {\n",
       "        vertical-align: middle;\n",
       "    }\n",
       "\n",
       "    .dataframe tbody tr th {\n",
       "        vertical-align: top;\n",
       "    }\n",
       "\n",
       "    .dataframe thead th {\n",
       "        text-align: right;\n",
       "    }\n",
       "</style>\n",
       "<table border=\"1\" class=\"dataframe\">\n",
       "  <thead>\n",
       "    <tr style=\"text-align: right;\">\n",
       "      <th></th>\n",
       "      <th>class</th>\n",
       "      <th>cap-shape</th>\n",
       "      <th>cap-surface</th>\n",
       "      <th>cap-color</th>\n",
       "      <th>does-bruise-or-bleed</th>\n",
       "      <th>gill-attachment</th>\n",
       "      <th>gill-spacing</th>\n",
       "      <th>gill-color</th>\n",
       "      <th>stem-height</th>\n",
       "      <th>stem-width</th>\n",
       "      <th>stem-color</th>\n",
       "      <th>has-ring</th>\n",
       "      <th>ring-type</th>\n",
       "      <th>habitat</th>\n",
       "      <th>season</th>\n",
       "    </tr>\n",
       "  </thead>\n",
       "  <tbody>\n",
       "    <tr>\n",
       "      <th>0</th>\n",
       "      <td>p</td>\n",
       "      <td>x</td>\n",
       "      <td>g</td>\n",
       "      <td>o</td>\n",
       "      <td>f</td>\n",
       "      <td>e</td>\n",
       "      <td>Unknown</td>\n",
       "      <td>w</td>\n",
       "      <td>16.95</td>\n",
       "      <td>17.09</td>\n",
       "      <td>w</td>\n",
       "      <td>t</td>\n",
       "      <td>g</td>\n",
       "      <td>d</td>\n",
       "      <td>w</td>\n",
       "    </tr>\n",
       "    <tr>\n",
       "      <th>1</th>\n",
       "      <td>p</td>\n",
       "      <td>x</td>\n",
       "      <td>g</td>\n",
       "      <td>o</td>\n",
       "      <td>f</td>\n",
       "      <td>e</td>\n",
       "      <td>Unknown</td>\n",
       "      <td>w</td>\n",
       "      <td>17.99</td>\n",
       "      <td>18.19</td>\n",
       "      <td>w</td>\n",
       "      <td>t</td>\n",
       "      <td>g</td>\n",
       "      <td>d</td>\n",
       "      <td>u</td>\n",
       "    </tr>\n",
       "    <tr>\n",
       "      <th>2</th>\n",
       "      <td>p</td>\n",
       "      <td>x</td>\n",
       "      <td>g</td>\n",
       "      <td>o</td>\n",
       "      <td>f</td>\n",
       "      <td>e</td>\n",
       "      <td>Unknown</td>\n",
       "      <td>w</td>\n",
       "      <td>17.80</td>\n",
       "      <td>17.74</td>\n",
       "      <td>w</td>\n",
       "      <td>t</td>\n",
       "      <td>g</td>\n",
       "      <td>d</td>\n",
       "      <td>w</td>\n",
       "    </tr>\n",
       "    <tr>\n",
       "      <th>3</th>\n",
       "      <td>p</td>\n",
       "      <td>f</td>\n",
       "      <td>h</td>\n",
       "      <td>e</td>\n",
       "      <td>f</td>\n",
       "      <td>e</td>\n",
       "      <td>Unknown</td>\n",
       "      <td>w</td>\n",
       "      <td>15.77</td>\n",
       "      <td>15.98</td>\n",
       "      <td>w</td>\n",
       "      <td>t</td>\n",
       "      <td>p</td>\n",
       "      <td>d</td>\n",
       "      <td>w</td>\n",
       "    </tr>\n",
       "    <tr>\n",
       "      <th>4</th>\n",
       "      <td>p</td>\n",
       "      <td>x</td>\n",
       "      <td>h</td>\n",
       "      <td>o</td>\n",
       "      <td>f</td>\n",
       "      <td>e</td>\n",
       "      <td>Unknown</td>\n",
       "      <td>w</td>\n",
       "      <td>16.53</td>\n",
       "      <td>17.20</td>\n",
       "      <td>w</td>\n",
       "      <td>t</td>\n",
       "      <td>p</td>\n",
       "      <td>d</td>\n",
       "      <td>w</td>\n",
       "    </tr>\n",
       "  </tbody>\n",
       "</table>\n",
       "</div>"
      ],
      "text/plain": [
       "  class cap-shape cap-surface cap-color does-bruise-or-bleed gill-attachment  \\\n",
       "0     p         x           g         o                    f               e   \n",
       "1     p         x           g         o                    f               e   \n",
       "2     p         x           g         o                    f               e   \n",
       "3     p         f           h         e                    f               e   \n",
       "4     p         x           h         o                    f               e   \n",
       "\n",
       "  gill-spacing gill-color  stem-height  stem-width stem-color has-ring  \\\n",
       "0      Unknown          w        16.95       17.09          w        t   \n",
       "1      Unknown          w        17.99       18.19          w        t   \n",
       "2      Unknown          w        17.80       17.74          w        t   \n",
       "3      Unknown          w        15.77       15.98          w        t   \n",
       "4      Unknown          w        16.53       17.20          w        t   \n",
       "\n",
       "  ring-type habitat season  \n",
       "0         g       d      w  \n",
       "1         g       d      u  \n",
       "2         g       d      w  \n",
       "3         p       d      w  \n",
       "4         p       d      w  "
      ]
     },
     "execution_count": 29,
     "metadata": {},
     "output_type": "execute_result"
    }
   ],
   "source": [
    "df3.head()"
   ]
  },
  {
   "cell_type": "code",
   "execution_count": 31,
   "metadata": {},
   "outputs": [
    {
     "data": {
      "image/png": "[encoded data removed]",
      "text/plain": [
       "<Figure size 1500x500 with 1 Axes>"
      ]
     },
     "metadata": {},
     "output_type": "display_data"
    }
   ],
   "source": [
    "# Boxplots showing the Outliers\n",
    "plt.figure(figsize=(15,5))\n",
    "sns.boxplot(data=df3.drop(['class','cap-shape', 'cap-surface', 'cap-color', 'does-bruise-or-bleed',\n",
    "            'gill-attachment', 'gill-spacing', 'gill-color', 'stem-color',\n",
    "            'has-ring', 'ring-type', 'habitat', 'season'], axis=1))\n",
    "plt.xlabel('Features')\n",
    "plt.ylabel('Value')\n",
    "plt.show()"
   ]
  },
  {
   "cell_type": "code",
   "execution_count": 32,
   "metadata": {},
   "outputs": [],
   "source": [
    "#One-Hot Encoding\n",
    "cat_var= ['cap-shape', 'cap-surface', 'cap-color', 'does-bruise-or-bleed',\n",
    "            'gill-attachment', 'gill-spacing', 'gill-color', 'stem-color',\n",
    "            'has-ring', 'ring-type', 'habitat', 'season']\n",
    "\n",
    "df4 = pd.get_dummies(df3, columns=cat_var, drop_first=True)"
   ]
  },
  {
   "cell_type": "code",
   "execution_count": 33,
   "metadata": {},
   "outputs": [
    {
     "data": {
      "text/html": [
       "<div>\n",
       "<style scoped>\n",
       "    .dataframe tbody tr th:only-of-type {\n",
       "        vertical-align: middle;\n",
       "    }\n",
       "\n",
       "    .dataframe tbody tr th {\n",
       "        vertical-align: top;\n",
       "    }\n",
       "\n",
       "    .dataframe thead th {\n",
       "        text-align: right;\n",
       "    }\n",
       "</style>\n",
       "<table border=\"1\" class=\"dataframe\">\n",
       "  <thead>\n",
       "    <tr style=\"text-align: right;\">\n",
       "      <th></th>\n",
       "      <th>class</th>\n",
       "      <th>stem-height</th>\n",
       "      <th>stem-width</th>\n",
       "      <th>cap-shape_c</th>\n",
       "      <th>cap-shape_f</th>\n",
       "      <th>cap-shape_o</th>\n",
       "      <th>cap-shape_p</th>\n",
       "      <th>cap-shape_s</th>\n",
       "      <th>cap-shape_x</th>\n",
       "      <th>cap-surface_d</th>\n",
       "      <th>...</th>\n",
       "      <th>habitat_g</th>\n",
       "      <th>habitat_h</th>\n",
       "      <th>habitat_l</th>\n",
       "      <th>habitat_m</th>\n",
       "      <th>habitat_p</th>\n",
       "      <th>habitat_u</th>\n",
       "      <th>habitat_w</th>\n",
       "      <th>season_s</th>\n",
       "      <th>season_u</th>\n",
       "      <th>season_w</th>\n",
       "    </tr>\n",
       "  </thead>\n",
       "  <tbody>\n",
       "    <tr>\n",
       "      <th>0</th>\n",
       "      <td>p</td>\n",
       "      <td>16.95</td>\n",
       "      <td>17.09</td>\n",
       "      <td>0</td>\n",
       "      <td>0</td>\n",
       "      <td>0</td>\n",
       "      <td>0</td>\n",
       "      <td>0</td>\n",
       "      <td>1</td>\n",
       "      <td>0</td>\n",
       "      <td>...</td>\n",
       "      <td>0</td>\n",
       "      <td>0</td>\n",
       "      <td>0</td>\n",
       "      <td>0</td>\n",
       "      <td>0</td>\n",
       "      <td>0</td>\n",
       "      <td>0</td>\n",
       "      <td>0</td>\n",
       "      <td>0</td>\n",
       "      <td>1</td>\n",
       "    </tr>\n",
       "    <tr>\n",
       "      <th>1</th>\n",
       "      <td>p</td>\n",
       "      <td>17.99</td>\n",
       "      <td>18.19</td>\n",
       "      <td>0</td>\n",
       "      <td>0</td>\n",
       "      <td>0</td>\n",
       "      <td>0</td>\n",
       "      <td>0</td>\n",
       "      <td>1</td>\n",
       "      <td>0</td>\n",
       "      <td>...</td>\n",
       "      <td>0</td>\n",
       "      <td>0</td>\n",
       "      <td>0</td>\n",
       "      <td>0</td>\n",
       "      <td>0</td>\n",
       "      <td>0</td>\n",
       "      <td>0</td>\n",
       "      <td>0</td>\n",
       "      <td>1</td>\n",
       "      <td>0</td>\n",
       "    </tr>\n",
       "    <tr>\n",
       "      <th>2</th>\n",
       "      <td>p</td>\n",
       "      <td>17.80</td>\n",
       "      <td>17.74</td>\n",
       "      <td>0</td>\n",
       "      <td>0</td>\n",
       "      <td>0</td>\n",
       "      <td>0</td>\n",
       "      <td>0</td>\n",
       "      <td>1</td>\n",
       "      <td>0</td>\n",
       "      <td>...</td>\n",
       "      <td>0</td>\n",
       "      <td>0</td>\n",
       "      <td>0</td>\n",
       "      <td>0</td>\n",
       "      <td>0</td>\n",
       "      <td>0</td>\n",
       "      <td>0</td>\n",
       "      <td>0</td>\n",
       "      <td>0</td>\n",
       "      <td>1</td>\n",
       "    </tr>\n",
       "    <tr>\n",
       "      <th>3</th>\n",
       "      <td>p</td>\n",
       "      <td>15.77</td>\n",
       "      <td>15.98</td>\n",
       "      <td>0</td>\n",
       "      <td>1</td>\n",
       "      <td>0</td>\n",
       "      <td>0</td>\n",
       "      <td>0</td>\n",
       "      <td>0</td>\n",
       "      <td>0</td>\n",
       "      <td>...</td>\n",
       "      <td>0</td>\n",
       "      <td>0</td>\n",
       "      <td>0</td>\n",
       "      <td>0</td>\n",
       "      <td>0</td>\n",
       "      <td>0</td>\n",
       "      <td>0</td>\n",
       "      <td>0</td>\n",
       "      <td>0</td>\n",
       "      <td>1</td>\n",
       "    </tr>\n",
       "    <tr>\n",
       "      <th>4</th>\n",
       "      <td>p</td>\n",
       "      <td>16.53</td>\n",
       "      <td>17.20</td>\n",
       "      <td>0</td>\n",
       "      <td>0</td>\n",
       "      <td>0</td>\n",
       "      <td>0</td>\n",
       "      <td>0</td>\n",
       "      <td>1</td>\n",
       "      <td>0</td>\n",
       "      <td>...</td>\n",
       "      <td>0</td>\n",
       "      <td>0</td>\n",
       "      <td>0</td>\n",
       "      <td>0</td>\n",
       "      <td>0</td>\n",
       "      <td>0</td>\n",
       "      <td>0</td>\n",
       "      <td>0</td>\n",
       "      <td>0</td>\n",
       "      <td>1</td>\n",
       "    </tr>\n",
       "  </tbody>\n",
       "</table>\n",
       "<p>5 rows × 84 columns</p>\n",
       "</div>"
      ],
      "text/plain": [
       "  class  stem-height  stem-width  cap-shape_c  cap-shape_f  cap-shape_o  \\\n",
       "0     p        16.95       17.09            0            0            0   \n",
       "1     p        17.99       18.19            0            0            0   \n",
       "2     p        17.80       17.74            0            0            0   \n",
       "3     p        15.77       15.98            0            1            0   \n",
       "4     p        16.53       17.20            0            0            0   \n",
       "\n",
       "   cap-shape_p  cap-shape_s  cap-shape_x  cap-surface_d  ...  habitat_g  \\\n",
       "0            0            0            1              0  ...          0   \n",
       "1            0            0            1              0  ...          0   \n",
       "2            0            0            1              0  ...          0   \n",
       "3            0            0            0              0  ...          0   \n",
       "4            0            0            1              0  ...          0   \n",
       "\n",
       "   habitat_h  habitat_l  habitat_m  habitat_p  habitat_u  habitat_w  season_s  \\\n",
       "0          0          0          0          0          0          0         0   \n",
       "1          0          0          0          0          0          0         0   \n",
       "2          0          0          0          0          0          0         0   \n",
       "3          0          0          0          0          0          0         0   \n",
       "4          0          0          0          0          0          0         0   \n",
       "\n",
       "   season_u  season_w  \n",
       "0         0         1  \n",
       "1         1         0  \n",
       "2         0         1  \n",
       "3         0         1  \n",
       "4         0         1  \n",
       "\n",
       "[5 rows x 84 columns]"
      ]
     },
     "execution_count": 33,
     "metadata": {},
     "output_type": "execute_result"
    }
   ],
   "source": [
    "df4.head()"
   ]
  },
  {
   "cell_type": "code",
   "execution_count": 34,
   "metadata": {},
   "outputs": [
    {
     "name": "stdout",
     "output_type": "stream",
     "text": [
      "(61069, 83)\n",
      "(61069,)\n"
     ]
    }
   ],
   "source": [
    "# create X and y matrices\n",
    "X = df4.drop('class', axis=1).values # drop the 'class' column and convert to numpy array\n",
    "y = np.where(df4['class'] == 'p', 1, 0) # create a binary target variable (1 for poisonous, 0 for edible)\n",
    "\n",
    "print(X.shape)\n",
    "print(y.shape)"
   ]
  },
  {
   "cell_type": "code",
   "execution_count": 43,
   "metadata": {},
   "outputs": [],
   "source": [
    "class GaussianNaiveBayes:\n",
    "    def __init__(self, X, y, n_features):\n",
    "        self.X = X\n",
    "        self.y = y\n",
    "        self.n_features = n_features\n",
    "\n",
    "    def splitData(self):\n",
    "        X_train, X_test, y_train, y_test = train_test_split(self.X, self.y,\n",
    "                                                        test_size = 0.2,\n",
    "                                                        random_state =1)\n",
    "        return X_train, X_test, y_train, y_test\n",
    "\n",
    "    def distribution(self, data):\n",
    "        mean = np.mean(data)\n",
    "        std = np.std(data)\n",
    "        dist = norm(mean, std)\n",
    "        return dist\n",
    "\n",
    "    def probability(self, x, prior, dist):\n",
    "        prob = prior\n",
    "        for i in range(self.n_features):\n",
    "            prob *= dist[i].pdf(x[i])\n",
    "        return prob\n",
    "\n",
    "    def fit(self):\n",
    "        self.X_train, self.X_test, self.y_train, self.y_test = self.splitData()\n",
    "        # separate data by class\n",
    "        X0_train = self.X_train[self.y_train == 0]\n",
    "        X1_train = self.X_train[self.y_train == 1]\n",
    "\n",
    "        self.prior0 = len(X0_train)/len(self.X_train)\n",
    "        self.prior1 = len(X1_train)/len(self.X_train)\n",
    "\n",
    "        self.dist_X0 = []\n",
    "        self.dist_X1 = []\n",
    "        for i in range(self.n_features):\n",
    "            self.dist_X0.append(self.distribution(X0_train[:,i]))\n",
    "            self.dist_X1.append(self.distribution(X1_train[:,i]))\n",
    "\n",
    "    def predict(self):\n",
    "        true_positives = 0\n",
    "        false_positives = 0\n",
    "        false_negatives = 0\n",
    "\n",
    "        for sample, target in zip(self.X_test, self.y_test):  # iterate over 2 list with same indices\n",
    "            py0 = self.probability(sample, self.prior0, self.dist_X0)\n",
    "            py1 = self.probability(sample, self.prior1, self.dist_X1)\n",
    "\n",
    "            predicted_class = np.argmax([py0, py1])\n",
    "            if predicted_class == target and target == 1:\n",
    "                true_positives += 1\n",
    "            elif predicted_class == 1 and target == 0:\n",
    "                false_positives += 1\n",
    "            elif predicted_class == 0 and target == 1:\n",
    "                false_negatives += 1\n",
    "\n",
    "        precision = true_positives / (true_positives + false_positives)\n",
    "        recall = true_positives / (true_positives + false_negatives)\n",
    "        f1_score = 2 * (precision * recall) / (precision + recall)\n",
    "\n",
    "        print(\"Precision: {:.3f}\".format(precision))\n",
    "        print(\"Recall: {:.3f}\".format(recall))\n",
    "        print(\"F1score: {:.3f}\".format(f1_score))"
   ]
  },
  {
   "cell_type": "code",
   "execution_count": 44,
   "metadata": {},
   "outputs": [],
   "source": [
    "clf = GaussianNaiveBayes(X, y, n_features=83)"
   ]
  },
  {
   "cell_type": "code",
   "execution_count": 45,
   "metadata": {},
   "outputs": [],
   "source": [
    "clf.fit()"
   ]
  },
  {
   "cell_type": "code",
   "execution_count": 279,
   "metadata": {},
   "outputs": [],
   "source": [
    "class LogisticRegression:\n",
    "    def __init__(self, X, y, learningRate, tolerance, maxIteration, gd,stochastic_gd, regularization, ridge_lambda, lasso):\n",
    "        self.tolerance = tolerance\n",
    "        self.learningRate = learningRate\n",
    "        self.maxIteration = maxIteration\n",
    "        self.X= X\n",
    "        self.y= y\n",
    "        self.w = None\n",
    "        self.gd = gd\n",
    "        self.stochastic_gd = stochastic_gd\n",
    "        self.regularization= regularization\n",
    "        self.ridge_lambda = ridge_lambda\n",
    "        self.lasso=lasso\n",
    "        \n",
    "        \n",
    "    def splitData(self):\n",
    "        X_Train, X_Test, y_Train, y_Test = train_test_split(self.X,self.y,test_size=0.3,random_state=0,shuffle=True)\n",
    "        return X_Train, X_Test, y_Train, y_Test\n",
    "\n",
    "    def sigmoid(self, z):\n",
    "        sig = 1/(1+np.exp(-z))\n",
    "        return sig\n",
    "\n",
    "    def costFunction(self, X, y):\n",
    "        sig = self.sigmoid(X.dot(self.w))\n",
    "        # approach1\n",
    "        cost = (y*np.log(sig)+(1-y)*np.log(1-sig)).sum()\n",
    "        cost = -cost/X.shape[0]\n",
    "        return cost\n",
    "\n",
    "    def gradient(self, X, y):\n",
    "        sig = self.sigmoid(X.dot(self.w))\n",
    "        gradient = (sig-y).dot(X)\n",
    "        return gradient\n",
    "    \n",
    "    def gradientDescent(self, X, y):\n",
    "        errors = []\n",
    "        last_error = float('inf')\n",
    "        for i in tqdm(range(self.maxIteration)):\n",
    "            self.w = self.w - self.learningRate * self.gradient(X, y)\n",
    "            current_error = self.costFunction(X, y)\n",
    "            diff = last_error - current_error\n",
    "            last_error = current_error\n",
    "            errors.append(current_error)\n",
    "\n",
    "            if np.abs(diff) < self.tolerance:\n",
    "                print('model stopped learning')\n",
    "                break\n",
    "    \n",
    "    ## COST FUNCTION WITH REGULARIZATION - RIDGE REGRESSION\n",
    "    def costFunctionWithRegularization(self,X,y):\n",
    "        return self.costFunction(X, y) + (self.ridge_lambda*np.sum(self.w**2))/2\n",
    "\n",
    "    ## COST FUNCTION DERIVATIVE WITH REGULARIZATION- RIDGE REGRESSION\n",
    "    def l2_gradient(self,X,y):\n",
    "        gradient_with_l2 = self.gradient(X,y)+ self.ridge_lambda*self.w\n",
    "        return gradient_with_l2\n",
    "\n",
    "    ## GRADIENT DESCENT WITH REGULARIZATION- RIDGE REGRESSION\n",
    "    def gradientWithRegularization(self,X_Train,y_Train):\n",
    "        errors = []\n",
    "        error_prev = np.inf\n",
    "        for i in tqdm(range(self.maxIteration)):\n",
    "            self.w = self.w - (self.learningRate * self.l2_gradient(X_Train, y_Train))\n",
    "            current_error = self.costFunctionWithRegularization(X_Train,y_Train)\n",
    "            error_diff= np.abs(error_prev - current_error)\n",
    "            error_prev = current_error\n",
    "            errors.append(current_error)\n",
    "            if error_diff < self.tolerance:\n",
    "                print('Model stopped running')\n",
    "                break\n",
    "    \n",
    "    ## COST FUNCTION DERIVATIVE WITH REGULARIZATION - LASSO REGRESSION\n",
    "    def costFunctionWithRegularizationLasso(self,X,y):\n",
    "        return self.costFunction(X,y) + (self.ridge_lambda*np.sum(abs(self.w)))\n",
    "    \n",
    "    def l1_gradient(self,X,y):\n",
    "        gradient_with_l1 = self.gradient(X,y)+ np.sign(self.w)\n",
    "        return gradient_with_l1\n",
    "        #y_hat = self.predict(X)\n",
    "        #return (y_hat - y).dot(X) + geek.sign(self.w)\n",
    "    \n",
    "    ## GRADIENT DESCENT WITH REGULARIZATION - LASSO REGRESSION\n",
    "    def gradientWithRegularizationLasso(self,X_Train,y_Train):\n",
    "        errors = []\n",
    "        error_prev = np.inf\n",
    "        for i in tqdm(range(self.maxIteration)):\n",
    "            #gradient = self.costDerivativeWithRegularizationLasso(X_Train,y_Train)\n",
    "            self.w = self.w - (self.learningRate * self.l1_gradient(X_Train, y_Train))\n",
    "            current_error = self.costFunctionWithRegularizationLasso(X_Train,y_Train)\n",
    "            error_diff= error_prev - current_error\n",
    "            error_prev = current_error\n",
    "            errors.append(current_error)\n",
    "            if np.abs(error_diff) < self.tolerance:\n",
    "                print('Model stopped running')\n",
    "                break\n",
    "    \n",
    "    #STOCHASTIC GRADIENT DESCENT\n",
    "    def stochasticGradientDescent(self, X_Train, y_Train):\n",
    "        \n",
    "        errors = []\n",
    "        last_error = float('inf')\n",
    "        for i in tqdm(range(self.maxIteration)):\n",
    "            X_Gradient_Sample, _, y_Gradient_Sample ,__  = train_test_split(X_Train,y_Train,test_size=0.80,shuffle=True)\n",
    "            self.w = self.w - self.learningRate * self.gradient(X_Gradient_Sample,y_Gradient_Sample)\n",
    "            current_error = self.costFunction(X_Gradient_Sample,y_Gradient_Sample)\n",
    "            diff = last_error - current_error\n",
    "            last_error = current_error\n",
    "            errors.append(current_error)\n",
    "\n",
    "            if np.abs(diff) < self.tolerance:\n",
    "                print('model stopped learning')\n",
    "                break\n",
    "        \n",
    "        \n",
    "        \n",
    "\n",
    "    ## STOCHASTIC GRADIENT DESCENT WITH REGULARIZATION\n",
    "    def stochasticGradientWithRegularization(self,X_Train,y_Train):\n",
    "        errors = []\n",
    "        error_prev = np.inf\n",
    "        for i in tqdm(range(self.maxIteration)):\n",
    "            X_Gradient_Sample, _, y_Gradient_Sample ,__  = train_test_split(X_Train,y_Train,test_size=0.80,shuffle=True)\n",
    "            #gradient = self.costDerivativeWithRegularization(X_Gradient_Sample,y_Gradient_Sample)\n",
    "            self.w = self.w - (self.learningRate * self.l2_gradient(X_Gradient_Sample,y_Gradient_Sample))\n",
    "            current_error = self.costFunctionWithRegularization(X_Gradient_Sample,y_Gradient_Sample)\n",
    "            error_diff= error_prev - current_error\n",
    "            error_prev = current_error\n",
    "            errors.append(current_error)\n",
    "            if np.abs(error_diff) < self.tolerance:\n",
    "                print('Model stopped running')\n",
    "                break\n",
    "                \n",
    "    \n",
    "    ## STOCHASTIC GRADIENT DESCENT WITH REGULARIZATION\n",
    "    def stochasticGradientWithRegularizationLasso(self,X_Train,y_Train):\n",
    "        errors = []\n",
    "        error_prev = np.inf\n",
    "        for i in tqdm(range(self.maxIteration)):\n",
    "            X_Gradient_Sample, _, y_Gradient_Sample ,__  = train_test_split(X_Train,y_Train,test_size=0.80,shuffle=True)\n",
    "            #gradient = self.costDerivativeWithRegularizationLasso(X_Gradient_Sample,y_Gradient_Sample)\n",
    "            self.w = self.w - (self.learningRate * self.l1_gradient(X_Gradient_Sample,y_Gradient_Sample))\n",
    "            current_error = self.costFunctionWithRegularizationLasso(X_Gradient_Sample,y_Gradient_Sample)\n",
    "            error_diff= error_prev - current_error\n",
    "            error_prev = current_error\n",
    "            errors.append(current_error)\n",
    "            if np.abs(error_diff) < self.tolerance:\n",
    "                print('Model stopped running')\n",
    "                break\n",
    "    \n",
    "\n",
    "    def predict(self, X):\n",
    "        sig = self.sigmoid(X.dot(self.w))\n",
    "        return np.around(sig)   \n",
    "    \n",
    "    def evaluate(self, y, y_hat):\n",
    "        y = (y==1)\n",
    "        y_hat = (y_hat == 1)                \n",
    "        recall = (y & y_hat).sum()/y.sum()\n",
    "        precision = (y & y_hat).sum()/y_hat.sum()\n",
    "        f_score = 2*(precision*recall)/(precision+recall)\n",
    "        return f_score, recall, precision\n",
    "    \n",
    "    \n",
    "    def fit(self):\n",
    "        X_train,X_test,y_train,y_test = self.splitData()\n",
    "        print('Solving using Gradient Descent')\n",
    "        \n",
    "        if self.gd and not self.regularization and not self.lasso:\n",
    "            print('Solved using gradient descent without regularization')\n",
    "            self.w = np.ones(X_train.shape[1])\n",
    "            self.gradientDescent(X_train,y_train)\n",
    "            \n",
    "        elif self.gd and self.regularization and not self.lasso:\n",
    "            print('Solved using gradient descent with regularization- RIDGE REGRESSION')\n",
    "            self.w = np.ones(X_train.shape[1])\n",
    "            self.gradientWithRegularization(X_train,y_train)\n",
    "        \n",
    "        elif self.gd and not self.regularization and self.lasso:\n",
    "            print('Solved using gradient descent with regularization- LASSO REGRESSION')\n",
    "            self.w = np.ones(X_train.shape[1])\n",
    "            self.gradientWithRegularizationLasso(X_train,y_train)\n",
    "        \n",
    "        elif self.stochastic_gd and not self.regularization and not self.lasso:\n",
    "            print('Solved using stochastic gradient descent with out regularization')\n",
    "            self.w = np.ones(X_train.shape[1])\n",
    "            self.stochasticGradientDescent(X_train,y_train)\n",
    "        \n",
    "        elif self.stochastic_gd and self.regularization and not self.lasso:\n",
    "            print('Solved using stochastic gradient descent with regularization- RIDGE REGRESSION')\n",
    "            self.w = np.ones(X_train.shape[1])\n",
    "            self.stochasticGradientWithRegularization(X_train,y_train)\n",
    "        \n",
    "        elif self.stochastic_gd and not self.regularization and self.lasso:\n",
    "            print('Solved using stochastic gradient descent with regularization- LASSO REGRESSION')\n",
    "            self.w = np.ones(X_train.shape[1])\n",
    "            self.stochasticGradientWithRegularizationLasso(X_train,y_train)\n",
    "        \n",
    "              \n",
    "        y_train_hat = self.predict(X_train)\n",
    "        f_score, recall, precision = self.evaluate(y_train, y_train_hat)\n",
    "        print('Training F1 score {}'.format(f_score))\n",
    "        print('Training recall score {}'.format(recall))\n",
    "        print('Training precision score {}'.format(precision))\n",
    "        y_test_hat= self.predict(X_test)\n",
    "        f_score, recall, precision = self.evaluate(y_test, y_test_hat)\n",
    "        print('Testing F1 score {}'.format(f_score))\n",
    "        print('Testing recall score {}'.format(recall))\n",
    "        print('Testing precision score {}'.format(precision))\n",
    "        \n",
    "    "
   ]
  },
  {
   "cell_type": "code",
   "execution_count": 280,
   "metadata": {},
   "outputs": [],
   "source": [
    "lr = LogisticRegression(X,y, learningRate = 0.0001, tolerance = 0.00005, maxIteration = 10000, gd=True,stochastic_gd= False, regularization=False,lasso=False, ridge_lambda=None)"
   ]
  },
  {
   "cell_type": "code",
   "execution_count": 281,
   "metadata": {},
   "outputs": [
    {
     "name": "stdout",
     "output_type": "stream",
     "text": [
      "Solving using Gradient Descent\n",
      "Solved using gradient descent without regularization\n"
     ]
    },
    {
     "name": "stderr",
     "output_type": "stream",
     "text": [
      "100%|████████████████████████████████████████████████████████████████████████████| 10000/10000 [01:42<00:00, 97.17it/s]"
     ]
    },
    {
     "name": "stdout",
     "output_type": "stream",
     "text": [
      "Training F1 score 0.6284951172690093\n",
      "Training recall score 0.47937356760886174\n",
      "Training precision score 0.9122849527501817\n",
      "Testing F1 score 0.6265060240963856\n",
      "Testing recall score 0.4758861127251598\n",
      "Testing precision score 0.9166200335758254\n"
     ]
    },
    {
     "name": "stderr",
     "output_type": "stream",
     "text": [
      "\n"
     ]
    }
   ],
   "source": [
    "lr.fit()"
   ]
  },
  {
   "cell_type": "code",
   "execution_count": 282,
   "metadata": {},
   "outputs": [],
   "source": [
    "lr = LogisticRegression(X,y, learningRate = 0.0001, tolerance = 0.00005, maxIteration = 10000, gd=True, stochastic_gd= False, regularization=True,lasso=False, ridge_lambda=0.001)"
   ]
  },
  {
   "cell_type": "code",
   "execution_count": 283,
   "metadata": {},
   "outputs": [
    {
     "name": "stdout",
     "output_type": "stream",
     "text": [
      "Solving using Gradient Descent\n",
      "Solved using gradient descent with regularization- RIDGE REGRESSION\n"
     ]
    },
    {
     "name": "stderr",
     "output_type": "stream",
     "text": [
      "100%|████████████████████████████████████████████████████████████████████████████| 10000/10000 [01:46<00:00, 93.95it/s]"
     ]
    },
    {
     "name": "stdout",
     "output_type": "stream",
     "text": [
      "Training F1 score 0.6285332739817494\n",
      "Training recall score 0.4794160088277735\n",
      "Training precision score 0.912292036827653\n",
      "Testing F1 score 0.6266811141564154\n",
      "Testing recall score 0.4760797985667248\n",
      "Testing precision score 0.9166511280999441\n"
     ]
    },
    {
     "name": "stderr",
     "output_type": "stream",
     "text": [
      "\n"
     ]
    }
   ],
   "source": [
    "lr.fit()"
   ]
  },
  {
   "cell_type": "code",
   "execution_count": 284,
   "metadata": {},
   "outputs": [],
   "source": [
    "lr = LogisticRegression(X,y, learningRate = 0.0001, tolerance = 0.00005, maxIteration = 10000, gd=True,stochastic_gd=False, regularization=False,lasso=True, ridge_lambda=0.001)"
   ]
  },
  {
   "cell_type": "code",
   "execution_count": 285,
   "metadata": {},
   "outputs": [
    {
     "name": "stdout",
     "output_type": "stream",
     "text": [
      "Solving using Gradient Descent\n",
      "Solved using gradient descent with regularization- LASSO REGRESSION\n"
     ]
    },
    {
     "name": "stderr",
     "output_type": "stream",
     "text": [
      "100%|████████████████████████████████████████████████████████████████████████████| 10000/10000 [01:50<00:00, 90.29it/s]"
     ]
    },
    {
     "name": "stdout",
     "output_type": "stream",
     "text": [
      "Training F1 score 0.5562757110302169\n",
      "Training recall score 0.39886257533316355\n",
      "Training precision score 0.9189400606238388\n",
      "Testing F1 score 0.5559165989710263\n",
      "Testing recall score 0.39763703273290724\n",
      "Testing precision score 0.9235267656320288\n"
     ]
    },
    {
     "name": "stderr",
     "output_type": "stream",
     "text": [
      "\n"
     ]
    }
   ],
   "source": [
    "lr.fit()"
   ]
  },
  {
   "cell_type": "code",
   "execution_count": 287,
   "metadata": {},
   "outputs": [],
   "source": [
    "lr = LogisticRegression(X,y, learningRate = 0.0001, tolerance = 0.00005, maxIteration = 10000, gd=False,stochastic_gd= True, regularization=False,lasso=False, ridge_lambda=None)"
   ]
  },
  {
   "cell_type": "code",
   "execution_count": 288,
   "metadata": {},
   "outputs": [
    {
     "name": "stdout",
     "output_type": "stream",
     "text": [
      "Solving using Gradient Descent\n",
      "Solved using stochastic gradient descent with out regularization\n"
     ]
    },
    {
     "name": "stderr",
     "output_type": "stream",
     "text": [
      "100%|████████████████████████████████████████████████████████████████████████████| 10000/10000 [03:39<00:00, 45.59it/s]"
     ]
    },
    {
     "name": "stdout",
     "output_type": "stream",
     "text": [
      "Training F1 score 0.7639012319863384\n",
      "Training recall score 0.9302690773279009\n",
      "Training precision score 0.6480118255728012\n",
      "Testing F1 score 0.7691316774687009\n",
      "Testing recall score 0.9251404222351346\n",
      "Testing precision score 0.6581467447468137\n"
     ]
    },
    {
     "name": "stderr",
     "output_type": "stream",
     "text": [
      "\n"
     ]
    }
   ],
   "source": [
    "lr.fit()"
   ]
  },
  {
   "cell_type": "code",
   "execution_count": 289,
   "metadata": {},
   "outputs": [],
   "source": [
    "lr = LogisticRegression(X,y, learningRate = 0.0001, tolerance = 0.00005, maxIteration = 10000, gd=False,stochastic_gd= True, regularization=True,lasso=False, ridge_lambda=0.001)"
   ]
  },
  {
   "cell_type": "code",
   "execution_count": 290,
   "metadata": {},
   "outputs": [
    {
     "name": "stdout",
     "output_type": "stream",
     "text": [
      "Solving using Gradient Descent\n",
      "Solved using stochastic gradient descent with regularization- RIDGE REGRESSION\n"
     ]
    },
    {
     "name": "stderr",
     "output_type": "stream",
     "text": [
      "100%|████████████████████████████████████████████████████████████████████████████| 10000/10000 [03:35<00:00, 46.50it/s]"
     ]
    },
    {
     "name": "stdout",
     "output_type": "stream",
     "text": [
      "Training F1 score 0.7502601456815817\n",
      "Training recall score 0.9486036838978016\n",
      "Training precision score 0.6205163797890061\n",
      "Testing F1 score 0.7584254411479542\n",
      "Testing recall score 0.946930079411195\n",
      "Testing precision score 0.6325118054207904\n"
     ]
    },
    {
     "name": "stderr",
     "output_type": "stream",
     "text": [
      "\n"
     ]
    }
   ],
   "source": [
    "lr.fit()"
   ]
  },
  {
   "cell_type": "code",
   "execution_count": 275,
   "metadata": {},
   "outputs": [],
   "source": [
    "lr = LogisticRegression(X,y, learningRate = 0.0001, tolerance = 0.00005, maxIteration = 10000, gd=False,stochastic_gd= True, regularization=False,lasso=True, ridge_lambda=0.001)"
   ]
  },
  {
   "cell_type": "code",
   "execution_count": 276,
   "metadata": {},
   "outputs": [
    {
     "name": "stdout",
     "output_type": "stream",
     "text": [
      "Solving using Gradient Descent\n",
      "Solved using stochastic gradient descent with regularization- LASSO REGRESSION\n"
     ]
    },
    {
     "name": "stderr",
     "output_type": "stream",
     "text": [
      "100%|████████████████████████████████████████████████████████████████████████████| 10000/10000 [03:41<00:00, 45.18it/s]"
     ]
    },
    {
     "name": "stdout",
     "output_type": "stream",
     "text": [
      "Training F1 score 0.7687388987566607\n",
      "Training recall score 0.9184279772515067\n",
      "Training precision score 0.6610055592888997\n",
      "Testing F1 score 0.7729865014565297\n",
      "Testing recall score 0.9122603137710633\n",
      "Testing precision score 0.6706058233074678\n"
     ]
    },
    {
     "name": "stderr",
     "output_type": "stream",
     "text": [
      "\n"
     ]
    }
   ],
   "source": [
    "lr.fit()"
   ]
  },
  {
   "cell_type": "code",
   "execution_count": 26,
   "metadata": {},
   "outputs": [],
   "source": [
    "class KernelSvmClassifier:\n",
    "    \n",
    "    def __init__(self, C, kernel):\n",
    "        self.C = C                               \n",
    "        self.kernel = kernel          # <---\n",
    "        self.alpha = None\n",
    "        self.supportVectors = None\n",
    "    \n",
    "    def fit(self, X, y):\n",
    "        N = len(y)\n",
    "        # --->\n",
    "        # Gram matrix of h(x) y\n",
    "        hXX = np.apply_along_axis(lambda x1 : np.apply_along_axis(lambda x2:  self.kernel(x1, x2), 1, X),\n",
    "                                  1, X)   \n",
    "        yp = y.reshape(-1, 1)\n",
    "        GramHXy = hXX * np.matmul(yp, yp.T) \n",
    "        \n",
    "        y_ = np.where(y<=0, -1, 1)\n",
    "        N, n_features= X.shape\n",
    "        \n",
    "        xy= X * y[:, np.newaxis]\n",
    "        gramXy= np.matmul(xy, xy.T)\n",
    "        # <---\n",
    "\n",
    "        # Lagrange dual problem\n",
    "        def dualSVM(GramHXy, alpha):\n",
    "            return alpha.sum() - 0.5 * alpha.dot(alpha.dot(GramHXy))\n",
    "\n",
    "        # Partial derivate of dualSVM\n",
    "        def dualSVMderivative(G, alpha):\n",
    "            return np.ones_like(alpha) - alpha.dot(GramHXy)\n",
    "\n",
    "        # Constraints on alpha of the shape :\n",
    "        A = np.vstack((-np.eye(N), np.eye(N)))             # <---\n",
    "        b = np.hstack((np.zeros(N), self.C * np.ones(N)))  # <---\n",
    "        constraints = ({'type': 'eq',   'fun': lambda a: np.dot(a, y),     'jac': lambda a: y},\n",
    "                       {'type': 'ineq', 'fun': lambda a: b - np.dot(A, a), 'jac': lambda a: -A})\n",
    "\n",
    "        # Maximize by minimizing the opposite\n",
    "        optRes = optimize.minimize(fun=lambda a: -dualSVM(GramHXy, a),\n",
    "                                   x0=np.ones(N), \n",
    "                                   method='SLSQP', \n",
    "                                   jac=lambda a: -dualSVMderivative(GramHXy, a), \n",
    "                                   constraints=constraints)\n",
    "        self.alpha = optRes.x\n",
    "        # --->\n",
    "        epsilon = 1e-8\n",
    "        supportIndices = self.alpha > epsilon\n",
    "        self.supportVectors = X[supportIndices]\n",
    "        self.supportAlphaY = y[supportIndices] * self.alpha[supportIndices]\n",
    "        # <---\n",
    "    \n",
    "    def predict(self, X):\n",
    "        \"\"\" Predict y values in {-1, 1} \"\"\"\n",
    "        # --->\n",
    "        def predict1(x):\n",
    "            x1 = np.apply_along_axis(lambda s: self.kernel(s, x), 1, self.supportVectors)\n",
    "            x2 = x1 * self.supportAlphaY\n",
    "            return np.sum(x2)\n",
    "        \n",
    "        d = np.apply_along_axis(predict1, 1, X)\n",
    "        return 2 * (d > 0) - 1\n",
    "        # <---"
   ]
  },
  {
   "cell_type": "code",
   "execution_count": null,
   "metadata": {},
   "outputs": [],
   "source": [
    "X_train, X_test, y_train, y_test = train_test_split(X, y, test_size = 0.3, random_state = 15)"
   ]
  },
  {
   "cell_type": "code",
   "execution_count": null,
   "metadata": {},
   "outputs": [],
   "source": [
    "def GRBF(x1, x2):\n",
    "    diff = x1 - x2\n",
    "    return np.exp(-np.dot(diff, diff) * len(x1) / 2)\n",
    "\n",
    "model= KernelSvmClassifier(C=5, kernel=GRBF)\n",
    "model.fit(X_train, y_train)"
   ]
  }
 ],
 "metadata": {
  "kernelspec": {
   "display_name": "Python 3 (ipykernel)",
   "language": "python",
   "name": "python3"
  },
  "language_info": {
   "codemirror_mode": {
    "name": "ipython",
    "version": 3
   },
   "file_extension": ".py",
   "mimetype": "text/x-python",
   "name": "python",
   "nbconvert_exporter": "python",
   "pygments_lexer": "ipython3",
   "version": "3.9.13"
  }
 },
 "nbformat": 4,
 "nbformat_minor": 4
}
